{
 "cells": [
  {
   "cell_type": "code",
   "execution_count": 8,
   "metadata": {},
   "outputs": [
    {
     "name": "stdout",
     "output_type": "stream",
     "text": [
      "C:\\Program Files\\WindowsApps\\PythonSoftwareFoundation.Python.3.10_3.10.3056.0_x64__qbz5n2kfra8p0\\lib\\os.py\n"
     ]
    }
   ],
   "source": [
    "# This is experimental file 2 for practice\n",
    "import sys\n",
    "import os\n",
    "print(os.__file__)\n",
    "\n",
    "from Experimental_Python import add\n",
    "\n"
   ]
  },
  {
   "cell_type": "code",
   "execution_count": 13,
   "metadata": {},
   "outputs": [
    {
     "name": "stdout",
     "output_type": "stream",
     "text": [
      "<Hi>Aryan</Hi>\n"
     ]
    }
   ],
   "source": [
    "#### Strings normal\n",
    "## This first assigns the tag the string Hi, and text the string Aryan. Then using the format in the sentence, we make sure that tag is assigned the value of 0 and text the one. \n",
    "tag = 'Hi'\n",
    "text = 'Aryan'\n",
    "sentence = '<{0}>{1}</{0}>'.format(tag, text)\n",
    "print(sentence)  # output: <Hi>Aryan</Hi>"
   ]
  },
  {
   "cell_type": "code",
   "execution_count": 18,
   "metadata": {},
   "outputs": [
    {
     "name": "stdout",
     "output_type": "stream",
     "text": [
      "My name is Aryan and I am 19 years old\n"
     ]
    }
   ],
   "source": [
    "### String using Dictionary. The Double ** helps in unpacking the Dictionary and then use a key-word arguments for the .format.\n",
    "Dict1 = {'name': 'Aryan', 'Age': '19'}\n",
    "sentence = \"My name is {name} and I am {Age} years old\".format(**Dict1)\n",
    "print(sentence)"
   ]
  },
  {
   "cell_type": "code",
   "execution_count": 26,
   "metadata": {},
   "outputs": [
    {
     "name": "stdout",
     "output_type": "stream",
     "text": [
      "[0, 1, 2, 3, 4, 5, 6, 7, 8, 9, 10]\n",
      "[10, 9, 8, 7, 6, 5, 4, 3, 2, 1, 0]\n"
     ]
    }
   ],
   "source": [
    "### Everything about Slicing Lists and Strings\n",
    "my_list = [0,1,2,3,4,5,6,7,8,9,10]\n",
    "# Below is an example for accessing a list/string using repitition = [start:end:stop]\n",
    "print (my_list[0::1])\n",
    "# create a reverse string\n",
    "print (my_list[::-1])"
   ]
  }
 ],
 "metadata": {
  "kernelspec": {
   "display_name": "Python 3",
   "language": "python",
   "name": "python3"
  },
  "language_info": {
   "codemirror_mode": {
    "name": "ipython",
    "version": 3
   },
   "file_extension": ".py",
   "mimetype": "text/x-python",
   "name": "python",
   "nbconvert_exporter": "python",
   "pygments_lexer": "ipython3",
   "version": "3.10.11"
  },
  "orig_nbformat": 4
 },
 "nbformat": 4,
 "nbformat_minor": 2
}
