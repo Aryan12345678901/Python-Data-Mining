{
 "cells": [
  {
   "cell_type": "code",
   "execution_count": 8,
   "metadata": {},
   "outputs": [
    {
     "name": "stdout",
     "output_type": "stream",
     "text": [
      "C:\\Program Files\\WindowsApps\\PythonSoftwareFoundation.Python.3.10_3.10.3056.0_x64__qbz5n2kfra8p0\\lib\\os.py\n"
     ]
    }
   ],
   "source": [
    "# This is experimental file 2 for practice\n",
    "import sys\n",
    "import os\n",
    "print(os.__file__)\n",
    "## adds the module\n",
    "from Experimental_Python import add\n",
    "\n"
   ]
  },
  {
   "cell_type": "code",
   "execution_count": 13,
   "metadata": {},
   "outputs": [
    {
     "name": "stdout",
     "output_type": "stream",
     "text": [
      "<Hi>Aryan</Hi>\n"
     ]
    }
   ],
   "source": [
    "#### Strings normal\n",
    "## This first assigns the tag the string Hi, and text the string Aryan. Then using the format in the sentence, we make sure that tag is assigned the value of 0 and text the one. \n",
    "tag = 'Hi'\n",
    "text = 'Aryan'\n",
    "sentence = '<{0}>{1}</{0}>'.format(tag, text)\n",
    "print(sentence)  # output: <Hi>Aryan</Hi>"
   ]
  },
  {
   "cell_type": "code",
   "execution_count": 18,
   "metadata": {},
   "outputs": [
    {
     "name": "stdout",
     "output_type": "stream",
     "text": [
      "My name is Aryan and I am 19 years old\n"
     ]
    }
   ],
   "source": [
    "### String using Dictionary. The Double ** helps in unpacking the Dictionary and then use a key-word arguments for the .format.\n",
    "Dict1 = {'name': 'Aryan', 'Age': '19'}\n",
    "sentence = \"My name is {name} and I am {Age} years old\".format(**Dict1)\n",
    "print(sentence)"
   ]
  },
  {
   "cell_type": "code",
   "execution_count": 26,
   "metadata": {},
   "outputs": [
    {
     "name": "stdout",
     "output_type": "stream",
     "text": [
      "[0, 1, 2, 3, 4, 5, 6, 7, 8, 9, 10]\n",
      "[10, 9, 8, 7, 6, 5, 4, 3, 2, 1, 0]\n"
     ]
    }
   ],
   "source": [
    "### Everything about Slicing Lists and Strings\n",
    "my_list = [0,1,2,3,4,5,6,7,8,9,10]\n",
    "# Below is an example for accessing a list/string using repitition = [start:end:stop]\n",
    "print (my_list[0::1])\n",
    "# create a reverse string\n",
    "print (my_list[::-1])"
   ]
  },
  {
   "cell_type": "code",
   "execution_count": 3,
   "metadata": {},
   "outputs": [
    {
     "name": "stdout",
     "output_type": "stream",
     "text": [
      "[0, 1, 2, 3, 4, 5, 6, 7, 8, 9, 10]\n",
      "[0, 1, 2, 3, 4, 5, 6, 7, 8, 9, 10]\n",
      "[0, 1, 4, 9, 16, 25, 36, 49, 64, 81, 100]\n",
      "[0, 1, 4, 9, 16, 25, 36, 49, 64, 81, 100]\n",
      "[0, 2, 4, 6, 8, 10]\n",
      "[0, 2, 4, 6, 8, 10]\n",
      "('Bruce', 'Batman') ('Clark', 'Superman') ('Barry', 'Flash')\n",
      "{'Bruce': 'Batman', 'Clark': 'Superman', 'Barry': 'Flash'}\n",
      "{'Bruce': 'Batman', 'Clark': 'Superman', 'Barry': 'Flash'}\n",
      "{0, 1, 2, 3, 4, 5, 6, 7, 8, 9, 10}\n"
     ]
    }
   ],
   "source": [
    "### List/Dict Comprehensions. Better than for loops in specific circumstances. Keeps the Code Clean. Below is an example of Compprehensions and for loops for the same thing.\n",
    "## For loop\n",
    "my_list = [0,1,2,3,4,5,6,7,8,9,10]\n",
    "new_list = []\n",
    "for n in my_list:\n",
    "    new_list.append(n)\n",
    "print(new_list)\n",
    "##List comprehension\n",
    "better_list = [n for n in my_list]\n",
    "print(better_list)\n",
    "\n",
    "## List Comprehesion and More Advanced Lambda Function\n",
    "x_list = [n*n for n in my_list]\n",
    "print(x_list)\n",
    "l_list = list(map(lambda n: n*n, my_list))\n",
    "print(l_list)\n",
    "\n",
    "## List Comprehension and Lambda Function with a condition\n",
    "x_list = [n for n in my_list if n%2 == 0]\n",
    "print(x_list)\n",
    "l_list = list(filter(lambda n: n%2 ==0, my_list))\n",
    "print(l_list)\n",
    "\n",
    "## Dictionary Comprehension. Zip allows us to combine more than one list to create a matched up tuple based on the position of the value. The * helps us unzip\n",
    "names = ['Bruce','Clark','Barry']\n",
    "Superhero = ['Batman','Superman','Flash']\n",
    "print (*zip(names,Superhero))\n",
    "print(dict(zip(names,Superhero)))\n",
    "\n",
    "### Using Lambda\n",
    "my_dict =  {names:Superhero for names, Superhero in zip(names,Superhero)}\n",
    "print(my_dict)\n",
    "\n",
    "### Making a set, Every value is unique no repitions\n",
    "my_set = {n for n in my_list}\n",
    "print(my_set)"
   ]
  },
  {
   "cell_type": "code",
   "execution_count": 3,
   "metadata": {},
   "outputs": [
    {
     "name": "stdout",
     "output_type": "stream",
     "text": [
      "Today's date: 2023-05-10\n",
      "2023-05-10 09:17:07.931002\n",
      "Weekday (0-6): 2\n",
      "ISO weekday (1-7): 3\n",
      "New date: 2023-05-13\n",
      "Days left to my birthday: 312\n"
     ]
    }
   ],
   "source": [
    "import datetime\n",
    "## Give us the current Year/Month/Date\n",
    "today_date = datetime.date.today()\n",
    "print(f\"Today's date: {today_date}\")\n",
    "\n",
    "## Give us the every seconds currently\n",
    "dt = datetime.datetime.now()\n",
    "print(dt)\n",
    "\n",
    "# Printing Weekdays. For normal format Monday = 0, Sunday = 6. For ISO format Monday = 1, Sunday = 7\n",
    "print(f\"Weekday (0-6): {today_date.weekday()}\")\n",
    "print(f\"ISO weekday (1-7): {today_date.isoweekday()}\")\n",
    "\n",
    "# To add or subtract from a date, use a timedelta object\n",
    "td = datetime.timedelta(days=3, hours=12, minutes=30)\n",
    "new_date = today_date + td\n",
    "print(f\"New date: {new_date}\")\n",
    "\n",
    "my_birthday = datetime.date(2024, 3, 17)\n",
    "days_left = my_birthday - today_date\n",
    "print(f\"Days left to my birthday: {days_left.days}\")\n"
   ]
  }
 ],
 "metadata": {
  "kernelspec": {
   "display_name": "Python 3",
   "language": "python",
   "name": "python3"
  },
  "language_info": {
   "codemirror_mode": {
    "name": "ipython",
    "version": 3
   },
   "file_extension": ".py",
   "mimetype": "text/x-python",
   "name": "python",
   "nbconvert_exporter": "python",
   "pygments_lexer": "ipython3",
   "version": "3.10.11"
  },
  "orig_nbformat": 4
 },
 "nbformat": 4,
 "nbformat_minor": 2
}
